{
 "cells": [
  {
   "cell_type": "markdown",
   "metadata": {},
   "source": [
    "# Gin Rummy Score Analysis\n",
    "\n",
    "My wife and I played 11 games in rummy the last few days, and I won 9 of them, which had her a little sad. Bad luck or skill? Games are 3-5 rounds, and I have scores for each round. Since rounds are (sort of) independent, we can look at them individually to see if there really is a significant difference in how high we score. \n",
    "\n",
    "You'll notice I capture the scores grouped into games even though we mainly care about round scores. This is because by comparing the game totals with the totals on our score sheet, I can catch errors such as typos or addition errors in our scoring. Embarrasingly, there were a few of both!"
   ]
  },
  {
   "cell_type": "code",
   "execution_count": 1,
   "metadata": {},
   "outputs": [
    {
     "name": "stdout",
     "output_type": "stream",
     "text": [
      "[(105, 305), (225, 265), (295, 305), (40, 290), (340, 375), (315, 385), (205, 150), (270, 430), (200, 45), (90, 320), (315, 405)]\n"
     ]
    }
   ],
   "source": [
    "# The raw data typed in from our score sheet\n",
    "games = [\n",
    "    [[40, -75, 40, 155, -55], [40, 35, 60, 125, 45]],\n",
    "    [[35, 105, 15, 70], [90, 75, 40, 60]],\n",
    "    [[20, 55, 80, 105, 35], [90, 70, 60, 50, 35]],\n",
    "    [[45, 35, -40], [150, 105, 35]],\n",
    "    [[60, 120, 35, 50, 75], [50, 115, 60, 95, 55]],\n",
    "    [[70, 65, 55, 35, 90], [65, 55, 70, 85, 110]],\n",
    "    [[35, 65, 95, -55, 65], [105, 30, -10, 50, -25]],\n",
    "    [[15, 135, 70, 45, 5], [75, 120, 40, 100, 95]],\n",
    "    [[-20, 60, 55, 50, 55], [45, 65, 5, -50, -20]],\n",
    "    [[35, 65, -10], [205, 40, 75]],\n",
    "    [[105, 50, 80, 25, 55], [70, 50, 65, 80, 140]]\n",
    "]\n",
    "\n",
    "# Check the totals - parity helps catch errors (eg game 3 20 -> 70, or wrong scores)\n",
    "sums = [(sum(a), sum(b)) for a, b in games]\n",
    "print(sums)"
   ]
  },
  {
   "cell_type": "markdown",
   "metadata": {},
   "source": [
    "The stat that prompted this closer look:"
   ]
  },
  {
   "cell_type": "code",
   "execution_count": 4,
   "metadata": {},
   "outputs": [
    {
     "name": "stdout",
     "output_type": "stream",
     "text": [
      "Ellie won 2 out of 11 games - 18.18%\n"
     ]
    }
   ],
   "source": [
    "e_wins = [int(sum(g[0]) > sum(g[1])) for g in games]\n",
    "print(f'Ellie won {sum(e_wins)} out of {len(games)} games - {round(100*sum(e_wins)/len(games), 2)}%')"
   ]
  },
  {
   "cell_type": "markdown",
   "metadata": {},
   "source": [
    "### Make a picture\n",
    "\n",
    "We could jump sraight to statistics, but I find it extremely useful to check things visually first. Here, I dump the round scores into a dataframe for convenience and overlap the score distributions:"
   ]
  },
  {
   "cell_type": "code",
   "execution_count": 5,
   "metadata": {},
   "outputs": [],
   "source": [
    "import numpy as np\n",
    "import pandas as pd\n",
    "from matplotlib import pyplot as plt"
   ]
  },
  {
   "cell_type": "code",
   "execution_count": 6,
   "metadata": {},
   "outputs": [
    {
     "data": {
      "text/html": [
       "<div>\n",
       "<style scoped>\n",
       "    .dataframe tbody tr th:only-of-type {\n",
       "        vertical-align: middle;\n",
       "    }\n",
       "\n",
       "    .dataframe tbody tr th {\n",
       "        vertical-align: top;\n",
       "    }\n",
       "\n",
       "    .dataframe thead th {\n",
       "        text-align: right;\n",
       "    }\n",
       "</style>\n",
       "<table border=\"1\" class=\"dataframe\">\n",
       "  <thead>\n",
       "    <tr style=\"text-align: right;\">\n",
       "      <th></th>\n",
       "      <th>J</th>\n",
       "      <th>E</th>\n",
       "    </tr>\n",
       "  </thead>\n",
       "  <tbody>\n",
       "    <tr>\n",
       "      <th>0</th>\n",
       "      <td>40</td>\n",
       "      <td>40</td>\n",
       "    </tr>\n",
       "    <tr>\n",
       "      <th>1</th>\n",
       "      <td>35</td>\n",
       "      <td>-75</td>\n",
       "    </tr>\n",
       "    <tr>\n",
       "      <th>2</th>\n",
       "      <td>60</td>\n",
       "      <td>40</td>\n",
       "    </tr>\n",
       "    <tr>\n",
       "      <th>3</th>\n",
       "      <td>125</td>\n",
       "      <td>155</td>\n",
       "    </tr>\n",
       "    <tr>\n",
       "      <th>4</th>\n",
       "      <td>45</td>\n",
       "      <td>-55</td>\n",
       "    </tr>\n",
       "  </tbody>\n",
       "</table>\n",
       "</div>"
      ],
      "text/plain": [
       "     J    E\n",
       "0   40   40\n",
       "1   35  -75\n",
       "2   60   40\n",
       "3  125  155\n",
       "4   45  -55"
      ]
     },
     "execution_count": 6,
     "metadata": {},
     "output_type": "execute_result"
    }
   ],
   "source": [
    "# Scores into a dataframe\n",
    "df = pd.DataFrame({\n",
    "    'J':np.concatenate([g[1] for g in games]),\n",
    "    'E':np.concatenate([g[0] for g in games])\n",
    "})\n",
    "df.head()"
   ]
  },
  {
   "cell_type": "code",
   "execution_count": 7,
   "metadata": {},
   "outputs": [
    {
     "data": {
      "image/png": "[encoded data removed]",
      "text/plain": [
       "<Figure size 432x288 with 1 Axes>"
      ]
     },
     "metadata": {
      "needs_background": "light"
     },
     "output_type": "display_data"
    }
   ],
   "source": [
    "# Plot the distributions \n",
    "ax = df['J'].hist(alpha = 0.5, label=\"Johno's scores\") \n",
    "df['E'].hist(ax=ax, alpha=0.3, label=\"Ellie's scores\")\n",
    "plt.title('Gin Rummy Score Distributions')\n",
    "plt.legend()\n",
    "plt.savefig('J_vs_E.png')"
   ]
  },
  {
   "cell_type": "markdown",
   "metadata": {},
   "source": [
    "### Getting Statistical\n",
    "\n",
    "A <20% win rate seems drastic, but there is so much luck involved in this game. Looking at the distributions, it seems we are actually pretty closely matched! So how can we tell if there is any actual (\"significant\") difference? This is where the classic stats stuff comes up. \n",
    "\n",
    "These are roughly normal distributions (if you squint with a bit of imagination). And we can consider them samples (n=50) from two distributions. The perfect setup for the Two-Sample T-Test, which we can easily do here by copying code from the [scipy docs](https://docs.scipy.org/doc/scipy/reference/generated/scipy.stats.ttest_ind.html):"
   ]
  },
  {
   "cell_type": "code",
   "execution_count": 8,
   "metadata": {},
   "outputs": [
    {
     "data": {
      "text/plain": [
       "Ttest_indResult(statistic=1.9327320966435646, pvalue=0.05615605644440084)"
      ]
     },
     "execution_count": 8,
     "metadata": {},
     "output_type": "execute_result"
    }
   ],
   "source": [
    "from scipy import stats\n",
    "stats.ttest_ind(df['J'].values,df['E'].values) # Optional: equal_var = False (makes ~no difference in this case)"
   ]
  },
  {
   "cell_type": "code",
   "execution_count": 9,
   "metadata": {},
   "outputs": [
    {
     "data": {
      "text/plain": [
       "17.857142857142858"
      ]
     },
     "execution_count": 9,
     "metadata": {},
     "output_type": "execute_result"
    }
   ],
   "source": [
    "1/0.056 # A 1-in-18 chance we are equally skilled at gin rummy -> we cannot reject the null hypothesis"
   ]
  },
  {
   "cell_type": "markdown",
   "metadata": {},
   "source": [
    "Like all good statisticians, we've been taught that p=0.05 is how we decide if something is 'significant' - i.e. there is a less-that-1-in-20 chance that the null hypothesis is correct. And here p=0.056 so we can't reject the possibility that we're both equally good at this game. \n",
    "\n",
    "Now, if I cared about publishing I would simply play a few more games to up the sample size and hopefully push that p-value below the threshold like any good academic... but in this case I want matrimonial bliss not tenure, so I'll leave this as it is. \n",
    "\n",
    "I hope you enjoyed this little Friday-afternoon distraction. Let me know if you try this on your own data :)"
   ]
  }
 ],
 "metadata": {
  "kernelspec": {
   "display_name": "Python 3",
   "language": "python",
   "name": "python3"
  },
  "language_info": {
   "codemirror_mode": {
    "name": "ipython",
    "version": 3
   },
   "file_extension": ".py",
   "mimetype": "text/x-python",
   "name": "python",
   "nbconvert_exporter": "python",
   "pygments_lexer": "ipython3",
   "version": "3.7.6"
  }
 },
 "nbformat": 4,
 "nbformat_minor": 4
}
